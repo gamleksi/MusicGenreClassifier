{
 "cells": [
  {
   "cell_type": "code",
   "execution_count": 11,
   "metadata": {},
   "outputs": [],
   "source": [
    "import numpy as np\n",
    "from sklearn.decomposition import PCA\n",
    "from sklearn.cross_validation import train_test_split\n",
    "from sklearn import preprocessing\n",
    "from sklearn.ensemble import AdaBoostClassifier, RandomForestClassifier\n",
    "from sklearn.tree import DecisionTreeClassifier\n",
    "from sklearn.naive_bayes import GaussianNB, BernoulliNB\n",
    "\n",
    "\n",
    "# Import the data\n",
    "test_data = np.genfromtxt('data/test_data.csv', delimiter=',')\n",
    "train_data = np.genfromtxt('data/train_data.csv', delimiter=',')\n",
    "train_labels = np.genfromtxt('data/train_labels.csv', delimiter=',')"
   ]
  },
  {
   "cell_type": "code",
   "execution_count": 2,
   "metadata": {},
   "outputs": [],
   "source": [
    "# Standardize data\n",
    "scaler = preprocessing.StandardScaler()\n",
    "scaler.fit(train_data)\n",
    "X = scaler.transform(train_data)\n",
    "y = train_labels"
   ]
  },
  {
   "cell_type": "code",
   "execution_count": 3,
   "metadata": {},
   "outputs": [
    {
     "name": "stdout",
     "output_type": "stream",
     "text": [
      "Number of training samples: 3490\n",
      "Number of test samples: 873\n"
     ]
    }
   ],
   "source": [
    "# Split data into train and test sets\n",
    "X_train, X_test, y_train, y_test = train_test_split(X, y, test_size=0.2, random_state=42)\n",
    "print ('Number of training samples: %d' % X_train.shape[0])\n",
    "print ('Number of test samples: %d' % X_test.shape[0])"
   ]
  },
  {
   "cell_type": "code",
   "execution_count": 12,
   "metadata": {},
   "outputs": [],
   "source": [
    "NBC = BernoulliNB()\n",
    "#dt = DecisionTreeClassifier(max_depth=151, min_samples_leaf = 1)"
   ]
  },
  {
   "cell_type": "code",
   "execution_count": 13,
   "metadata": {},
   "outputs": [
    {
     "name": "stdout",
     "output_type": "stream",
     "text": [
      "Training done\n"
     ]
    }
   ],
   "source": [
    "#dt.fit(X_train, y_train)\n",
    "NBC.fit(X_train, y_train)\n",
    "print (\"Training done\")"
   ]
  },
  {
   "cell_type": "code",
   "execution_count": 14,
   "metadata": {},
   "outputs": [
    {
     "name": "stdout",
     "output_type": "stream",
     "text": [
      "Naive Bayesian score: 0.420389461627\n"
     ]
    }
   ],
   "source": [
    "#tree_score= dt.score(X_test, y_test)\n",
    "NBC_score = NBC.score(X_test, y_test)\n",
    "#print (\"Decision Tree score: {}\".format(tree_score))\n",
    "print (\"Naive Bayesian score: {}\".format(NBC_score))\n"
   ]
  },
  {
   "cell_type": "code",
   "execution_count": 15,
   "metadata": {},
   "outputs": [],
   "source": [
    "learning_rate = 1\n",
    "n_estimators = 400\n",
    "#ada_tree_real = AdaBoostClassifier(\n",
    "#                     base_estimator = dt,\n",
    "#                     learning_rate = learning_rate,\n",
    "#                     n_estimators = n_estimators,\n",
    "#                     algorithm = \"SAMME.R\")\n",
    "\n",
    "# ada_tree_discrete = AdaBoostClassifier(\n",
    "#                     base_estimator = dt,\n",
    "#                     learning_rate = learning_rate,\n",
    "#                     n_estimators = n_estimators,\n",
    "#                     algorithm = \"SAMME\")\n",
    "\n",
    "ada_nbc_real = AdaBoostClassifier(\n",
    "                    base_estimator = NBC,\n",
    "                    learning_rate = learning_rate,\n",
    "                    n_estimators = n_estimators,\n",
    "                    algorithm = \"SAMME.R\")\n",
    "\n",
    "ada_nbc_discrete = AdaBoostClassifier(\n",
    "                    base_estimator = NBC,\n",
    "                    learning_rate = learning_rate,\n",
    "                    n_estimators = n_estimators,\n",
    "                    algorithm = \"SAMME\")"
   ]
  },
  {
   "cell_type": "code",
   "execution_count": null,
   "metadata": {},
   "outputs": [
    {
     "name": "stdout",
     "output_type": "stream",
     "text": [
      "Naive Bayes score: 0.0675830469645\n"
     ]
    }
   ],
   "source": [
    "ada_nbc_real.fit(X_train, y_train)\n",
    "nbc_real_score = ada_nbc_real.score(X_test, y_test)\n",
    "print (\"Naive Bayes score: {}\".format(nbc_real_score))\n",
    "\n",
    "ada_nbc_discrete.fit(X_train, y_train)\n",
    "nbc_discrete_score = ada_nbc_discrete.score(X_test, y_test)\n",
    "print (\"Naive Bayes score: {}\".format(nbc_discrete_score))"
   ]
  },
  {
   "cell_type": "code",
   "execution_count": null,
   "metadata": {},
   "outputs": [],
   "source": [
    "print (_discrete_score)"
   ]
  },
  {
   "cell_type": "code",
   "execution_count": null,
   "metadata": {},
   "outputs": [],
   "source": []
  }
 ],
 "metadata": {
  "kernelspec": {
   "display_name": "Python 2",
   "language": "python",
   "name": "python2"
  },
  "language_info": {
   "codemirror_mode": {
    "name": "ipython",
    "version": 2
   },
   "file_extension": ".py",
   "mimetype": "text/x-python",
   "name": "python",
   "nbconvert_exporter": "python",
   "pygments_lexer": "ipython2",
   "version": "2.7.10"
  }
 },
 "nbformat": 4,
 "nbformat_minor": 2
}
