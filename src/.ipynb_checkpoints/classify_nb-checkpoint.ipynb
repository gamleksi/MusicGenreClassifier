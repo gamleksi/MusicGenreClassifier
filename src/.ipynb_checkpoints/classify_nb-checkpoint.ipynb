{
 "cells": [
  {
   "cell_type": "code",
   "execution_count": 3,
   "metadata": {
    "collapsed": true
   },
   "outputs": [],
   "source": [
    "import numpy as np\n",
    "from sklearn.decomposition import PCA\n",
    "\n",
    "# Import and investigate the data\n",
    "test_data = np.genfromtxt('data/test_data.csv', delimiter=',')\n",
    "train_data = np.genfromtxt('data/train_data.csv', delimiter=',')\n",
    "train_labels = np.genfromtxt('data/train_labels.csv', delimiter=',')\n",
    "\n",
    "X = train_data\n",
    "y = train_labels"
   ]
  },
  {
   "cell_type": "code",
   "execution_count": 14,
   "metadata": {},
   "outputs": [
    {
     "name": "stdout",
     "output_type": "stream",
     "text": [
      "[  6.58061495e-01   1.92006859e-01   8.72145953e-02   2.23115520e-02\n",
      "   1.26536502e-02   8.76962429e-03   5.76021030e-03   3.50932278e-03\n",
      "   1.67772258e-03   1.37336644e-03   1.19404358e-03   8.71636253e-04\n",
      "   7.83867792e-04   7.19611472e-04   4.82472635e-04   3.61630193e-04\n",
      "   3.53297396e-04   2.15147609e-04   2.05846725e-04   1.70883068e-04]\n",
      "0.998696834224\n"
     ]
    }
   ],
   "source": [
    "pca = PCA(n_components=20)\n",
    "Xn = pca.fit_transform(X)\n",
    "print(pca.explained_variance_ratio_)\n",
    "print( sum(pca.explained_variance_ratio_))"
   ]
  },
  {
   "cell_type": "code",
   "execution_count": 10,
   "metadata": {},
   "outputs": [
    {
     "data": {
      "text/plain": [
       "(4363, 20)"
      ]
     },
     "execution_count": 10,
     "metadata": {},
     "output_type": "execute_result"
    }
   ],
   "source": [
    "Xn.shape"
   ]
  },
  {
   "cell_type": "code",
   "execution_count": null,
   "metadata": {
    "collapsed": true
   },
   "outputs": [],
   "source": []
  }
 ],
 "metadata": {
  "kernelspec": {
   "display_name": "Python 2",
   "language": "python",
   "name": "python2"
  },
  "language_info": {
   "codemirror_mode": {
    "name": "ipython",
    "version": 2
   },
   "file_extension": ".py",
   "mimetype": "text/x-python",
   "name": "python",
   "nbconvert_exporter": "python",
   "pygments_lexer": "ipython2",
   "version": "2.7.14"
  }
 },
 "nbformat": 4,
 "nbformat_minor": 2
}
